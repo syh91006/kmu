{
  "nbformat": 4,
  "nbformat_minor": 0,
  "metadata": {
    "colab": {
      "provenance": [],
      "authorship_tag": "ABX9TyMDmxNoXJZLuyC9Gsi/ZrJe",
      "include_colab_link": true
    },
    "kernelspec": {
      "name": "python3",
      "display_name": "Python 3"
    },
    "language_info": {
      "name": "python"
    }
  },
  "cells": [
    {
      "cell_type": "markdown",
      "metadata": {
        "id": "view-in-github",
        "colab_type": "text"
      },
      "source": [
        "<a href=\"https://colab.research.google.com/github/syh91006/kmu/blob/main/Untitled1.ipynb\" target=\"_parent\"><img src=\"https://colab.research.google.com/assets/colab-badge.svg\" alt=\"Open In Colab\"/></a>"
      ]
    },
    {
      "cell_type": "markdown",
      "source": [
        "json\n",
        "1. list(同型態): [60, 30, 20]\n",
        "2. dict型態(聚集表示複雜型態): {}\n",
        "\n",
        "key-value\n",
        "1. list: key1(0, 1, 2) key2(3, -2, -1)\n",
        "2. dict: key自訂義(數字/字串/tuple)\n",
        "\n",
        "key-value 查詢:要查的東西[key]\n",
        "list[0]/dict[姓名]"
      ],
      "metadata": {
        "id": "BYGLTQXHl_5u"
      }
    },
    {
      "cell_type": "code",
      "source": [],
      "metadata": {
        "id": "Fw4DvmpUl-xe"
      },
      "execution_count": null,
      "outputs": []
    }
  ]
}